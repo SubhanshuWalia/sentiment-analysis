{
 "cells": [
  {
   "cell_type": "code",
   "execution_count": 3,
   "id": "8471ffea",
   "metadata": {},
   "outputs": [],
   "source": [
    "import numpy as np\n",
    "import pandas as pd\n",
    "import matplotlib.pyplot as plt\n",
    "import seaborn as sns\n",
    "import spacy\n",
    "nlp = spacy.load('en_core_web_sm')"
   ]
  },
  {
   "cell_type": "code",
   "execution_count": 11,
   "id": "a4d3e641",
   "metadata": {},
   "outputs": [
    {
     "name": "stdout",
     "output_type": "stream",
     "text": [
      "[-0.20826823  0.12713754 -0.14263934  1.1650069   1.2930927  -0.3983816\n",
      " -0.5352546   0.3872813   0.72502357 -0.6226468   0.64545226 -0.70988876\n",
      " -1.1074061  -0.4201635  -0.9371325  -0.43676117  0.5733069   0.41179922\n",
      " -0.0127802  -0.58860296  0.2698432  -1.0604827  -0.8847261  -0.06006956\n",
      "  0.08650735 -0.18327478 -0.23889358 -0.10295721  0.72665465 -0.23190081\n",
      " -0.7737855  -0.3886688   0.2904046  -0.40439108  0.51155     0.97137374\n",
      " -1.3611116   0.11782441  0.3282594   0.61154664 -0.19737552  0.24975805\n",
      "  0.55673164  0.5538432  -0.25528058 -0.4939462   0.11661762  0.5558151\n",
      " -0.44960672  1.0128268   0.8394635  -0.54120183 -0.61795807  1.1383634\n",
      " -0.72546196 -0.7288139  -0.6248926   0.62615514 -0.8837294   0.5226747\n",
      "  0.03490335  0.21204871 -0.39613765  1.0421399  -0.12418401 -0.5842167\n",
      " -0.37850216 -0.9133986   0.21557528  0.5828844   1.1845528  -0.09978118\n",
      "  0.51616246  0.6842251  -0.6670178  -0.37937295 -0.6594833  -0.68303305\n",
      " -0.52337873 -1.467248    0.0858167   0.26277143 -0.4562961  -0.40316194\n",
      " -0.2852949  -0.280994    0.52602726 -0.861453    1.1367215   1.042888\n",
      "  0.689248   -0.6580011  -0.03018482  0.49346644  0.09630594  0.8169189 ]\n",
      "96\n"
     ]
    }
   ],
   "source": [
    "dat = nlp('A')\n",
    "print(f'{dat.vector}\\n{len(dat.vector)}')\n"
   ]
  },
  {
   "cell_type": "code",
   "execution_count": 15,
   "id": "4c38478c",
   "metadata": {},
   "outputs": [
    {
     "name": "stdout",
     "output_type": "stream",
     "text": [
      "[-0.60007215 -0.94713926  0.04873745  0.05487522  0.55116713 -0.719188\n",
      " -1.0815502  -0.30971614 -0.7965381  -0.5065464   1.0088444  -0.7585948\n",
      "  0.24714893  0.22302401 -0.82629657 -0.18199344  0.61294496 -0.3108295\n",
      " -0.2768529  -0.7613095   0.01372528 -0.89081615 -0.5152591  -0.14704642\n",
      " -0.15926145 -0.15585268  0.69180477 -0.41836852  0.5830106  -0.34502774\n",
      " -0.00822601  0.5870524   0.02609217 -0.78245145  0.9072466   0.42838365\n",
      " -1.1260165   0.5669892   0.5480763   0.18929742 -0.2689569   0.6889051\n",
      " -0.45764324  1.4620233   0.3987195   0.04610081  0.5734613  -0.07016495\n",
      " -0.41352084 -0.09570777  0.4444854  -0.02192254  0.29810986  0.22920638\n",
      "  0.07089186 -0.20197743  0.40635934  0.21789041 -0.03928068 -1.2361307\n",
      "  0.85226643 -0.52225494  0.02510372 -0.26303402 -0.34535596 -0.7236579\n",
      " -0.9247444  -0.19167972 -0.07182872  0.71157837  0.10427317 -0.6788765\n",
      "  0.1770151  -0.58109283  0.2306233   1.2075067   1.0788438  -1.141295\n",
      " -0.35832554  0.3545314   0.02254666  0.11084317  0.22811207  0.81818753\n",
      " -1.1459768  -0.23480901  0.14652997 -0.89026105  0.5711068   0.2113002\n",
      " -0.5783713   1.2475171   0.1847224   1.258813    0.0404302  -0.08380857]\n",
      "96\n"
     ]
    }
   ],
   "source": [
    "dat = nlp('Lion')\n",
    "print(f'{dat.vector}\\n{len(dat.vector)}')"
   ]
  },
  {
   "cell_type": "code",
   "execution_count": 16,
   "id": "caf37846",
   "metadata": {},
   "outputs": [
    {
     "name": "stdout",
     "output_type": "stream",
     "text": [
      "[ 0.53267145  0.10796853  0.45326853  0.2363503   0.5919409  -0.93883705\n",
      " -0.771748    0.6134777  -0.44713512 -0.07784637  0.92253286 -0.26691428\n",
      " -0.28200784 -0.547226   -0.66178596  0.10567981  0.09956113  0.5210771\n",
      " -0.64037997  0.00244359 -0.54846704  0.12491261 -0.48511776 -0.5303642\n",
      "  0.42132565 -0.35830465  0.56586623 -0.42213628  0.24620356 -0.27941254\n",
      " -0.31015968  0.11534787 -0.18370725 -0.40889367  0.31130856 -0.2968854\n",
      " -0.84854144  0.9994547   0.5552049   0.38284215 -0.17024906 -0.09062407\n",
      " -0.6949633   0.43542108  0.29622784  0.15244263  0.12579429  0.37979588\n",
      " -0.21999077 -0.01502666  0.720542   -0.4062856  -0.23428257 -0.239213\n",
      " -0.05065138 -0.22544463  0.05992271 -0.14580017 -0.00471025  0.28926155\n",
      "  0.1268905  -0.22198956  0.12207869 -0.8595505  -0.5731012  -0.23891382\n",
      " -0.9867013   0.6126359  -0.05912578  0.25514346  0.03329756  0.49324727\n",
      " -0.10152629 -0.030743    0.3008788   1.0809989  -0.08646282 -0.39549872\n",
      " -0.473749    0.3057629   0.20321864  0.13110264 -0.24798755  1.0305845\n",
      " -0.2874973   0.15859759 -0.61114055 -0.6420537   0.06887628  0.56301224\n",
      " -0.564426   -0.14735073  0.9593873   0.42920578  0.13798018 -0.09164394]\n",
      "96\n"
     ]
    }
   ],
   "source": [
    "dat = nlp('Lion cat dog')\n",
    "print(f'{dat.vector}\\n{len(dat.vector)}')"
   ]
  },
  {
   "cell_type": "code",
   "execution_count": 19,
   "id": "885bf469",
   "metadata": {},
   "outputs": [
    {
     "name": "stdout",
     "output_type": "stream",
     "text": [
      "[-0.11298064 -0.70101136  0.02219179  0.3887036  -0.16247189 -0.8906938\n",
      " -0.4478125   0.18281099 -0.18755926  0.13273947  0.9157933   0.30093437\n",
      " -0.20484829 -0.23078407 -0.17696132 -0.20183925 -0.2097921   0.19489945\n",
      " -0.5720296   0.2307633  -0.32711047 -0.31566468 -0.11946907 -0.6345553\n",
      "  0.4964212  -0.5721558   0.16278307 -0.41903237  0.3956044   0.09421104\n",
      "  1.2175974   0.8232731   0.13150184  0.1511226  -0.04520465  0.04397935\n",
      " -0.37924096  1.4098654  -0.29130957 -0.3207681   0.53740036  0.54116935\n",
      " -0.00376712  0.22274564  0.4481294  -0.39170042  0.48946506 -0.6639232\n",
      " -0.8870982  -0.5721799   0.5179302  -0.23496416  0.14354065 -0.42169985\n",
      " -0.08694977 -0.06984724  0.28336495  0.42841926 -0.043628    0.10904248\n",
      "  0.95383084 -0.16471402  0.62243015 -0.15449126  0.03384773 -0.00481003\n",
      " -0.62537974 -0.48991156 -0.10940082 -0.28784326  0.37731475  0.51578146\n",
      " -0.46545342 -0.8035985   0.1550118   0.06400039  0.5670532   0.21996768\n",
      " -0.30865544  0.09495772  0.32756037 -0.06857301  0.19954775  0.5502164\n",
      " -0.49791524 -0.18042508  0.10103742 -0.8379316   0.29760337  0.04191017\n",
      " -0.38717094  0.30880716  0.8995264   0.12864748  0.08684915  0.07102002]\n",
      "96\n"
     ]
    }
   ],
   "source": [
    "dat = nlp('irgf grihgekjG jrghekgb brjhbbfh gbhghjrb rhg.')\n",
    "print(f'{dat.vector}\\n{len(dat.vector)}')"
   ]
  },
  {
   "cell_type": "code",
   "execution_count": 21,
   "id": "a843153b",
   "metadata": {},
   "outputs": [
    {
     "name": "stdout",
     "output_type": "stream",
     "text": [
      "lion lion 1.0\n",
      "lion cat 0.5468022\n",
      "lion dog 0.55252165\n",
      "lion table 0.21396983\n",
      "cat lion 0.5468022\n",
      "cat cat 1.0\n",
      "cat dog 0.6610272\n",
      "cat table 0.18251853\n",
      "dog lion 0.55252165\n",
      "dog cat 0.6610272\n",
      "dog dog 1.0\n",
      "dog table 0.256253\n",
      "table lion 0.21396983\n",
      "table cat 0.18251853\n",
      "table dog 0.256253\n",
      "table table 1.0\n"
     ]
    },
    {
     "name": "stderr",
     "output_type": "stream",
     "text": [
      "<ipython-input-21-0ce15ba2a55f>:4: UserWarning: [W007] The model you're using has no word vectors loaded, so the result of the Token.similarity method will be based on the tagger, parser and NER, which may not give useful similarity judgements. This may happen if you're using one of the small models, e.g. `en_core_web_sm`, which don't ship with word vectors and only use context-sensitive tensors. You can always add your own word vectors, or use one of the larger models instead if available.\n",
      "  print(token1.text,token2.text,token1.similarity(token2))\n"
     ]
    }
   ],
   "source": [
    "tokens = nlp('lion cat dog table')\n",
    "for token1 in tokens:\n",
    "    for token2 in tokens:\n",
    "        print(token1.text,token2.text,token1.similarity(token2))"
   ]
  },
  {
   "cell_type": "code",
   "execution_count": 22,
   "id": "46d90f46",
   "metadata": {},
   "outputs": [
    {
     "name": "stderr",
     "output_type": "stream",
     "text": [
      "[nltk_data] Downloading package vader_lexicon to\n",
      "[nltk_data]     C:\\Users\\subha\\AppData\\Roaming\\nltk_data...\n"
     ]
    },
    {
     "data": {
      "text/plain": [
       "True"
      ]
     },
     "execution_count": 22,
     "metadata": {},
     "output_type": "execute_result"
    }
   ],
   "source": [
    "import nltk\n",
    "nltk.download('vader_lexicon')"
   ]
  },
  {
   "cell_type": "code",
   "execution_count": 24,
   "id": "86d8b70a",
   "metadata": {},
   "outputs": [],
   "source": [
    "from nltk.sentiment.vader import SentimentIntensityAnalyzer"
   ]
  },
  {
   "cell_type": "code",
   "execution_count": 25,
   "id": "4a587ba9",
   "metadata": {},
   "outputs": [],
   "source": [
    "sia = SentimentIntensityAnalyzer()"
   ]
  },
  {
   "cell_type": "code",
   "execution_count": 26,
   "id": "7bc23ee4",
   "metadata": {},
   "outputs": [
    {
     "data": {
      "text/plain": [
       "{'neg': 0.405, 'neu': 0.595, 'pos': 0.0, 'compound': -0.5267}"
      ]
     },
     "execution_count": 26,
     "metadata": {},
     "output_type": "execute_result"
    }
   ],
   "source": [
    "txt = 'My favourite book was lying somewhere.'\n",
    "sia.polarity_scores(txt)"
   ]
  },
  {
   "cell_type": "code",
   "execution_count": 28,
   "id": "743f5e7a",
   "metadata": {},
   "outputs": [
    {
     "data": {
      "text/plain": [
       "{'neg': 0.0, 'neu': 0.588, 'pos': 0.412, 'compound': 0.6369}"
      ]
     },
     "execution_count": 28,
     "metadata": {},
     "output_type": "execute_result"
    }
   ],
   "source": [
    "txt = ('This was One of the best movies.')\n",
    "sia.polarity_scores(txt)"
   ]
  },
  {
   "cell_type": "code",
   "execution_count": 29,
   "id": "0b563d88",
   "metadata": {},
   "outputs": [
    {
     "data": {
      "text/plain": [
       "{'neg': 0.0, 'neu': 1.0, 'pos': 0.0, 'compound': 0.0}"
      ]
     },
     "execution_count": 29,
     "metadata": {},
     "output_type": "execute_result"
    }
   ],
   "source": [
    "txt = ('This movie was watchable.')\n",
    "sia.polarity_scores(txt)"
   ]
  },
  {
   "cell_type": "code",
   "execution_count": 31,
   "id": "f0befeeb",
   "metadata": {},
   "outputs": [
    {
     "data": {
      "text/plain": [
       "{'neg': 0.538, 'neu': 0.462, 'pos': 0.0, 'compound': -0.5423}"
      ]
     },
     "execution_count": 31,
     "metadata": {},
     "output_type": "execute_result"
    }
   ],
   "source": [
    "txt = ('This movie was bad.')\n",
    "sia.polarity_scores(txt)"
   ]
  },
  {
   "cell_type": "code",
   "execution_count": 33,
   "id": "bf37490b",
   "metadata": {},
   "outputs": [
    {
     "data": {
      "text/plain": [
       "{'neg': 0.0, 'neu': 0.196, 'pos': 0.804, 'compound': 0.6249}"
      ]
     },
     "execution_count": 33,
     "metadata": {},
     "output_type": "execute_result"
    }
   ],
   "source": [
    "txt = ('Awesome food')\n",
    "sia.polarity_scores(txt)"
   ]
  },
  {
   "cell_type": "markdown",
   "id": "deb269ce",
   "metadata": {},
   "source": [
    "#  Sentiment analysis"
   ]
  },
  {
   "cell_type": "code",
   "execution_count": 34,
   "id": "34940f73",
   "metadata": {},
   "outputs": [
    {
     "data": {
      "text/html": [
       "<div>\n",
       "<style scoped>\n",
       "    .dataframe tbody tr th:only-of-type {\n",
       "        vertical-align: middle;\n",
       "    }\n",
       "\n",
       "    .dataframe tbody tr th {\n",
       "        vertical-align: top;\n",
       "    }\n",
       "\n",
       "    .dataframe thead th {\n",
       "        text-align: right;\n",
       "    }\n",
       "</style>\n",
       "<table border=\"1\" class=\"dataframe\">\n",
       "  <thead>\n",
       "    <tr style=\"text-align: right;\">\n",
       "      <th></th>\n",
       "      <th>label</th>\n",
       "      <th>review</th>\n",
       "    </tr>\n",
       "  </thead>\n",
       "  <tbody>\n",
       "    <tr>\n",
       "      <th>0</th>\n",
       "      <td>pos</td>\n",
       "      <td>Stuning even for the non-gamer: This sound tra...</td>\n",
       "    </tr>\n",
       "    <tr>\n",
       "      <th>1</th>\n",
       "      <td>pos</td>\n",
       "      <td>The best soundtrack ever to anything.: I'm rea...</td>\n",
       "    </tr>\n",
       "    <tr>\n",
       "      <th>2</th>\n",
       "      <td>pos</td>\n",
       "      <td>Amazing!: This soundtrack is my favorite music...</td>\n",
       "    </tr>\n",
       "    <tr>\n",
       "      <th>3</th>\n",
       "      <td>pos</td>\n",
       "      <td>Excellent Soundtrack: I truly like this soundt...</td>\n",
       "    </tr>\n",
       "    <tr>\n",
       "      <th>4</th>\n",
       "      <td>pos</td>\n",
       "      <td>Remember, Pull Your Jaw Off The Floor After He...</td>\n",
       "    </tr>\n",
       "  </tbody>\n",
       "</table>\n",
       "</div>"
      ],
      "text/plain": [
       "  label                                             review\n",
       "0   pos  Stuning even for the non-gamer: This sound tra...\n",
       "1   pos  The best soundtrack ever to anything.: I'm rea...\n",
       "2   pos  Amazing!: This soundtrack is my favorite music...\n",
       "3   pos  Excellent Soundtrack: I truly like this soundt...\n",
       "4   pos  Remember, Pull Your Jaw Off The Floor After He..."
      ]
     },
     "execution_count": 34,
     "metadata": {},
     "output_type": "execute_result"
    }
   ],
   "source": [
    "data = pd.read_csv('amazonreviews.tsv',sep='\\t')\n",
    "data.head()"
   ]
  },
  {
   "cell_type": "code",
   "execution_count": 35,
   "id": "3a5985e0",
   "metadata": {},
   "outputs": [
    {
     "data": {
      "text/html": [
       "<div>\n",
       "<style scoped>\n",
       "    .dataframe tbody tr th:only-of-type {\n",
       "        vertical-align: middle;\n",
       "    }\n",
       "\n",
       "    .dataframe tbody tr th {\n",
       "        vertical-align: top;\n",
       "    }\n",
       "\n",
       "    .dataframe thead th {\n",
       "        text-align: right;\n",
       "    }\n",
       "</style>\n",
       "<table border=\"1\" class=\"dataframe\">\n",
       "  <thead>\n",
       "    <tr style=\"text-align: right;\">\n",
       "      <th></th>\n",
       "      <th>label</th>\n",
       "      <th>review</th>\n",
       "    </tr>\n",
       "  </thead>\n",
       "  <tbody>\n",
       "    <tr>\n",
       "      <th>count</th>\n",
       "      <td>10000</td>\n",
       "      <td>10000</td>\n",
       "    </tr>\n",
       "    <tr>\n",
       "      <th>unique</th>\n",
       "      <td>2</td>\n",
       "      <td>10000</td>\n",
       "    </tr>\n",
       "    <tr>\n",
       "      <th>top</th>\n",
       "      <td>neg</td>\n",
       "      <td>Asvab for Dummies: It was a good book but the ...</td>\n",
       "    </tr>\n",
       "    <tr>\n",
       "      <th>freq</th>\n",
       "      <td>5097</td>\n",
       "      <td>1</td>\n",
       "    </tr>\n",
       "  </tbody>\n",
       "</table>\n",
       "</div>"
      ],
      "text/plain": [
       "        label                                             review\n",
       "count   10000                                              10000\n",
       "unique      2                                              10000\n",
       "top       neg  Asvab for Dummies: It was a good book but the ...\n",
       "freq     5097                                                  1"
      ]
     },
     "execution_count": 35,
     "metadata": {},
     "output_type": "execute_result"
    }
   ],
   "source": [
    "data.describe()"
   ]
  },
  {
   "cell_type": "code",
   "execution_count": 36,
   "id": "f3d400b7",
   "metadata": {},
   "outputs": [
    {
     "name": "stdout",
     "output_type": "stream",
     "text": [
      "<class 'pandas.core.frame.DataFrame'>\n",
      "RangeIndex: 10000 entries, 0 to 9999\n",
      "Data columns (total 2 columns):\n",
      " #   Column  Non-Null Count  Dtype \n",
      "---  ------  --------------  ----- \n",
      " 0   label   10000 non-null  object\n",
      " 1   review  10000 non-null  object\n",
      "dtypes: object(2)\n",
      "memory usage: 156.4+ KB\n"
     ]
    }
   ],
   "source": [
    "data.info()"
   ]
  },
  {
   "cell_type": "code",
   "execution_count": 43,
   "id": "3c39d654",
   "metadata": {},
   "outputs": [
    {
     "data": {
      "text/plain": [
       "neg    5097\n",
       "pos    4903\n",
       "Name: label, dtype: int64"
      ]
     },
     "execution_count": 43,
     "metadata": {},
     "output_type": "execute_result"
    }
   ],
   "source": [
    "data.label.value_counts()"
   ]
  },
  {
   "cell_type": "code",
   "execution_count": 55,
   "id": "f5612e69",
   "metadata": {},
   "outputs": [
    {
     "name": "stdout",
     "output_type": "stream",
     "text": [
      "Remember, Pull Your Jaw Off The Floor After Hearing it: If you've played the game, you know how divine the music is! Every single song tells a story of the game, it's that good! The greatest songs are without a doubt, Chrono Cross: Time's Scar, Magical Dreamers: The Wind, The Stars, and the Sea and Radical Dreamers: Unstolen Jewel. (Translation varies) This music is perfect if you ask me, the best it can be. Yasunori Mitsuda just poured his heart on and wrote it down on paper.\n",
      "{'neg': 0.0, 'neu': 0.746, 'pos': 0.254, 'compound': 0.9781}\n"
     ]
    }
   ],
   "source": [
    "print(data.iloc[4,1])\n",
    "print(sia.polarity_scores(data.iloc[4,1]))"
   ]
  },
  {
   "cell_type": "code",
   "execution_count": 57,
   "id": "cbd93d28",
   "metadata": {},
   "outputs": [
    {
     "data": {
      "text/html": [
       "<div>\n",
       "<style scoped>\n",
       "    .dataframe tbody tr th:only-of-type {\n",
       "        vertical-align: middle;\n",
       "    }\n",
       "\n",
       "    .dataframe tbody tr th {\n",
       "        vertical-align: top;\n",
       "    }\n",
       "\n",
       "    .dataframe thead th {\n",
       "        text-align: right;\n",
       "    }\n",
       "</style>\n",
       "<table border=\"1\" class=\"dataframe\">\n",
       "  <thead>\n",
       "    <tr style=\"text-align: right;\">\n",
       "      <th></th>\n",
       "      <th>label</th>\n",
       "      <th>review</th>\n",
       "      <th>scores</th>\n",
       "    </tr>\n",
       "  </thead>\n",
       "  <tbody>\n",
       "    <tr>\n",
       "      <th>0</th>\n",
       "      <td>pos</td>\n",
       "      <td>Stuning even for the non-gamer: This sound tra...</td>\n",
       "      <td>{'neg': 0.088, 'neu': 0.669, 'pos': 0.243, 'co...</td>\n",
       "    </tr>\n",
       "    <tr>\n",
       "      <th>1</th>\n",
       "      <td>pos</td>\n",
       "      <td>The best soundtrack ever to anything.: I'm rea...</td>\n",
       "      <td>{'neg': 0.018, 'neu': 0.837, 'pos': 0.145, 'co...</td>\n",
       "    </tr>\n",
       "    <tr>\n",
       "      <th>2</th>\n",
       "      <td>pos</td>\n",
       "      <td>Amazing!: This soundtrack is my favorite music...</td>\n",
       "      <td>{'neg': 0.04, 'neu': 0.692, 'pos': 0.268, 'com...</td>\n",
       "    </tr>\n",
       "    <tr>\n",
       "      <th>3</th>\n",
       "      <td>pos</td>\n",
       "      <td>Excellent Soundtrack: I truly like this soundt...</td>\n",
       "      <td>{'neg': 0.09, 'neu': 0.615, 'pos': 0.295, 'com...</td>\n",
       "    </tr>\n",
       "    <tr>\n",
       "      <th>4</th>\n",
       "      <td>pos</td>\n",
       "      <td>Remember, Pull Your Jaw Off The Floor After He...</td>\n",
       "      <td>{'neg': 0.0, 'neu': 0.746, 'pos': 0.254, 'comp...</td>\n",
       "    </tr>\n",
       "  </tbody>\n",
       "</table>\n",
       "</div>"
      ],
      "text/plain": [
       "  label                                             review  \\\n",
       "0   pos  Stuning even for the non-gamer: This sound tra...   \n",
       "1   pos  The best soundtrack ever to anything.: I'm rea...   \n",
       "2   pos  Amazing!: This soundtrack is my favorite music...   \n",
       "3   pos  Excellent Soundtrack: I truly like this soundt...   \n",
       "4   pos  Remember, Pull Your Jaw Off The Floor After He...   \n",
       "\n",
       "                                              scores  \n",
       "0  {'neg': 0.088, 'neu': 0.669, 'pos': 0.243, 'co...  \n",
       "1  {'neg': 0.018, 'neu': 0.837, 'pos': 0.145, 'co...  \n",
       "2  {'neg': 0.04, 'neu': 0.692, 'pos': 0.268, 'com...  \n",
       "3  {'neg': 0.09, 'neu': 0.615, 'pos': 0.295, 'com...  \n",
       "4  {'neg': 0.0, 'neu': 0.746, 'pos': 0.254, 'comp...  "
      ]
     },
     "execution_count": 57,
     "metadata": {},
     "output_type": "execute_result"
    }
   ],
   "source": [
    "data['scores'] = data['review'].apply(lambda x: sia.polarity_scores(x))\n",
    "data.head()"
   ]
  },
  {
   "cell_type": "code",
   "execution_count": 62,
   "id": "b82cda5b",
   "metadata": {},
   "outputs": [
    {
     "data": {
      "text/html": [
       "<div>\n",
       "<style scoped>\n",
       "    .dataframe tbody tr th:only-of-type {\n",
       "        vertical-align: middle;\n",
       "    }\n",
       "\n",
       "    .dataframe tbody tr th {\n",
       "        vertical-align: top;\n",
       "    }\n",
       "\n",
       "    .dataframe thead th {\n",
       "        text-align: right;\n",
       "    }\n",
       "</style>\n",
       "<table border=\"1\" class=\"dataframe\">\n",
       "  <thead>\n",
       "    <tr style=\"text-align: right;\">\n",
       "      <th></th>\n",
       "      <th>label</th>\n",
       "      <th>review</th>\n",
       "      <th>scores</th>\n",
       "      <th>compund</th>\n",
       "    </tr>\n",
       "  </thead>\n",
       "  <tbody>\n",
       "    <tr>\n",
       "      <th>0</th>\n",
       "      <td>pos</td>\n",
       "      <td>Stuning even for the non-gamer: This sound tra...</td>\n",
       "      <td>{'neg': 0.088, 'neu': 0.669, 'pos': 0.243, 'co...</td>\n",
       "      <td>0.9454</td>\n",
       "    </tr>\n",
       "    <tr>\n",
       "      <th>1</th>\n",
       "      <td>pos</td>\n",
       "      <td>The best soundtrack ever to anything.: I'm rea...</td>\n",
       "      <td>{'neg': 0.018, 'neu': 0.837, 'pos': 0.145, 'co...</td>\n",
       "      <td>0.8957</td>\n",
       "    </tr>\n",
       "    <tr>\n",
       "      <th>2</th>\n",
       "      <td>pos</td>\n",
       "      <td>Amazing!: This soundtrack is my favorite music...</td>\n",
       "      <td>{'neg': 0.04, 'neu': 0.692, 'pos': 0.268, 'com...</td>\n",
       "      <td>0.9858</td>\n",
       "    </tr>\n",
       "    <tr>\n",
       "      <th>3</th>\n",
       "      <td>pos</td>\n",
       "      <td>Excellent Soundtrack: I truly like this soundt...</td>\n",
       "      <td>{'neg': 0.09, 'neu': 0.615, 'pos': 0.295, 'com...</td>\n",
       "      <td>0.9814</td>\n",
       "    </tr>\n",
       "    <tr>\n",
       "      <th>4</th>\n",
       "      <td>pos</td>\n",
       "      <td>Remember, Pull Your Jaw Off The Floor After He...</td>\n",
       "      <td>{'neg': 0.0, 'neu': 0.746, 'pos': 0.254, 'comp...</td>\n",
       "      <td>0.9781</td>\n",
       "    </tr>\n",
       "    <tr>\n",
       "      <th>5</th>\n",
       "      <td>pos</td>\n",
       "      <td>an absolute masterpiece: I am quite sure any o...</td>\n",
       "      <td>{'neg': 0.014, 'neu': 0.737, 'pos': 0.249, 'co...</td>\n",
       "      <td>0.9900</td>\n",
       "    </tr>\n",
       "    <tr>\n",
       "      <th>6</th>\n",
       "      <td>neg</td>\n",
       "      <td>Buyer beware: This is a self-published book, a...</td>\n",
       "      <td>{'neg': 0.124, 'neu': 0.806, 'pos': 0.069, 'co...</td>\n",
       "      <td>-0.8744</td>\n",
       "    </tr>\n",
       "    <tr>\n",
       "      <th>7</th>\n",
       "      <td>pos</td>\n",
       "      <td>Glorious story: I loved Whisper of the wicked ...</td>\n",
       "      <td>{'neg': 0.072, 'neu': 0.583, 'pos': 0.346, 'co...</td>\n",
       "      <td>0.9900</td>\n",
       "    </tr>\n",
       "    <tr>\n",
       "      <th>8</th>\n",
       "      <td>pos</td>\n",
       "      <td>A FIVE STAR BOOK: I just finished reading Whis...</td>\n",
       "      <td>{'neg': 0.113, 'neu': 0.712, 'pos': 0.174, 'co...</td>\n",
       "      <td>0.8353</td>\n",
       "    </tr>\n",
       "    <tr>\n",
       "      <th>9</th>\n",
       "      <td>pos</td>\n",
       "      <td>Whispers of the Wicked Saints: This was a easy...</td>\n",
       "      <td>{'neg': 0.033, 'neu': 0.777, 'pos': 0.19, 'com...</td>\n",
       "      <td>0.8196</td>\n",
       "    </tr>\n",
       "  </tbody>\n",
       "</table>\n",
       "</div>"
      ],
      "text/plain": [
       "  label                                             review  \\\n",
       "0   pos  Stuning even for the non-gamer: This sound tra...   \n",
       "1   pos  The best soundtrack ever to anything.: I'm rea...   \n",
       "2   pos  Amazing!: This soundtrack is my favorite music...   \n",
       "3   pos  Excellent Soundtrack: I truly like this soundt...   \n",
       "4   pos  Remember, Pull Your Jaw Off The Floor After He...   \n",
       "5   pos  an absolute masterpiece: I am quite sure any o...   \n",
       "6   neg  Buyer beware: This is a self-published book, a...   \n",
       "7   pos  Glorious story: I loved Whisper of the wicked ...   \n",
       "8   pos  A FIVE STAR BOOK: I just finished reading Whis...   \n",
       "9   pos  Whispers of the Wicked Saints: This was a easy...   \n",
       "\n",
       "                                              scores  compund  \n",
       "0  {'neg': 0.088, 'neu': 0.669, 'pos': 0.243, 'co...   0.9454  \n",
       "1  {'neg': 0.018, 'neu': 0.837, 'pos': 0.145, 'co...   0.8957  \n",
       "2  {'neg': 0.04, 'neu': 0.692, 'pos': 0.268, 'com...   0.9858  \n",
       "3  {'neg': 0.09, 'neu': 0.615, 'pos': 0.295, 'com...   0.9814  \n",
       "4  {'neg': 0.0, 'neu': 0.746, 'pos': 0.254, 'comp...   0.9781  \n",
       "5  {'neg': 0.014, 'neu': 0.737, 'pos': 0.249, 'co...   0.9900  \n",
       "6  {'neg': 0.124, 'neu': 0.806, 'pos': 0.069, 'co...  -0.8744  \n",
       "7  {'neg': 0.072, 'neu': 0.583, 'pos': 0.346, 'co...   0.9900  \n",
       "8  {'neg': 0.113, 'neu': 0.712, 'pos': 0.174, 'co...   0.8353  \n",
       "9  {'neg': 0.033, 'neu': 0.777, 'pos': 0.19, 'com...   0.8196  "
      ]
     },
     "execution_count": 62,
     "metadata": {},
     "output_type": "execute_result"
    }
   ],
   "source": [
    "data['compund'] = data['scores'].apply(lambda x:x['compound'])\n",
    "data.head(10)"
   ]
  },
  {
   "cell_type": "code",
   "execution_count": 113,
   "id": "b6d7b21e",
   "metadata": {},
   "outputs": [],
   "source": [
    "data['comp_score'] = data['compund'].apply(lambda x: 1 if x>=0 else 0)"
   ]
  },
  {
   "cell_type": "code",
   "execution_count": 117,
   "id": "3ccf9d84",
   "metadata": {},
   "outputs": [
    {
     "data": {
      "text/html": [
       "<div>\n",
       "<style scoped>\n",
       "    .dataframe tbody tr th:only-of-type {\n",
       "        vertical-align: middle;\n",
       "    }\n",
       "\n",
       "    .dataframe tbody tr th {\n",
       "        vertical-align: top;\n",
       "    }\n",
       "\n",
       "    .dataframe thead th {\n",
       "        text-align: right;\n",
       "    }\n",
       "</style>\n",
       "<table border=\"1\" class=\"dataframe\">\n",
       "  <thead>\n",
       "    <tr style=\"text-align: right;\">\n",
       "      <th></th>\n",
       "      <th>label</th>\n",
       "      <th>review</th>\n",
       "      <th>scores</th>\n",
       "      <th>compund</th>\n",
       "      <th>comp_score</th>\n",
       "      <th>score_avg</th>\n",
       "    </tr>\n",
       "  </thead>\n",
       "  <tbody>\n",
       "    <tr>\n",
       "      <th>0</th>\n",
       "      <td>1</td>\n",
       "      <td>Stuning even for the non-gamer: This sound tra...</td>\n",
       "      <td>{'neg': 0.088, 'neu': 0.669, 'pos': 0.243, 'co...</td>\n",
       "      <td>0.9454</td>\n",
       "      <td>1</td>\n",
       "      <td>0.0546</td>\n",
       "    </tr>\n",
       "    <tr>\n",
       "      <th>1</th>\n",
       "      <td>1</td>\n",
       "      <td>The best soundtrack ever to anything.: I'm rea...</td>\n",
       "      <td>{'neg': 0.018, 'neu': 0.837, 'pos': 0.145, 'co...</td>\n",
       "      <td>0.8957</td>\n",
       "      <td>1</td>\n",
       "      <td>0.1043</td>\n",
       "    </tr>\n",
       "    <tr>\n",
       "      <th>2</th>\n",
       "      <td>1</td>\n",
       "      <td>Amazing!: This soundtrack is my favorite music...</td>\n",
       "      <td>{'neg': 0.04, 'neu': 0.692, 'pos': 0.268, 'com...</td>\n",
       "      <td>0.9858</td>\n",
       "      <td>1</td>\n",
       "      <td>0.0142</td>\n",
       "    </tr>\n",
       "    <tr>\n",
       "      <th>3</th>\n",
       "      <td>1</td>\n",
       "      <td>Excellent Soundtrack: I truly like this soundt...</td>\n",
       "      <td>{'neg': 0.09, 'neu': 0.615, 'pos': 0.295, 'com...</td>\n",
       "      <td>0.9814</td>\n",
       "      <td>1</td>\n",
       "      <td>0.0186</td>\n",
       "    </tr>\n",
       "    <tr>\n",
       "      <th>4</th>\n",
       "      <td>1</td>\n",
       "      <td>Remember, Pull Your Jaw Off The Floor After He...</td>\n",
       "      <td>{'neg': 0.0, 'neu': 0.746, 'pos': 0.254, 'comp...</td>\n",
       "      <td>0.9781</td>\n",
       "      <td>1</td>\n",
       "      <td>0.0219</td>\n",
       "    </tr>\n",
       "    <tr>\n",
       "      <th>...</th>\n",
       "      <td>...</td>\n",
       "      <td>...</td>\n",
       "      <td>...</td>\n",
       "      <td>...</td>\n",
       "      <td>...</td>\n",
       "      <td>...</td>\n",
       "    </tr>\n",
       "    <tr>\n",
       "      <th>9995</th>\n",
       "      <td>1</td>\n",
       "      <td>A revelation of life in small town America in ...</td>\n",
       "      <td>{'neg': 0.017, 'neu': 0.846, 'pos': 0.136, 'co...</td>\n",
       "      <td>0.9610</td>\n",
       "      <td>1</td>\n",
       "      <td>0.0380</td>\n",
       "    </tr>\n",
       "    <tr>\n",
       "      <th>9996</th>\n",
       "      <td>1</td>\n",
       "      <td>Great biography of a very interesting journali...</td>\n",
       "      <td>{'neg': 0.0, 'neu': 0.868, 'pos': 0.132, 'comp...</td>\n",
       "      <td>0.9544</td>\n",
       "      <td>1</td>\n",
       "      <td>0.0456</td>\n",
       "    </tr>\n",
       "    <tr>\n",
       "      <th>9997</th>\n",
       "      <td>0</td>\n",
       "      <td>Interesting Subject; Poor Presentation: You'd ...</td>\n",
       "      <td>{'neg': 0.084, 'neu': 0.754, 'pos': 0.162, 'co...</td>\n",
       "      <td>0.9102</td>\n",
       "      <td>1</td>\n",
       "      <td>0.0898</td>\n",
       "    </tr>\n",
       "    <tr>\n",
       "      <th>9998</th>\n",
       "      <td>0</td>\n",
       "      <td>Don't buy: The box looked used and it is obvio...</td>\n",
       "      <td>{'neg': 0.091, 'neu': 0.909, 'pos': 0.0, 'comp...</td>\n",
       "      <td>-0.3595</td>\n",
       "      <td>0</td>\n",
       "      <td>1.3595</td>\n",
       "    </tr>\n",
       "    <tr>\n",
       "      <th>9999</th>\n",
       "      <td>1</td>\n",
       "      <td>Beautiful Pen and Fast Delivery.: The pen was ...</td>\n",
       "      <td>{'neg': 0.028, 'neu': 0.811, 'pos': 0.161, 'co...</td>\n",
       "      <td>0.9107</td>\n",
       "      <td>1</td>\n",
       "      <td>0.0893</td>\n",
       "    </tr>\n",
       "  </tbody>\n",
       "</table>\n",
       "<p>10000 rows × 6 columns</p>\n",
       "</div>"
      ],
      "text/plain": [
       "      label                                             review  \\\n",
       "0         1  Stuning even for the non-gamer: This sound tra...   \n",
       "1         1  The best soundtrack ever to anything.: I'm rea...   \n",
       "2         1  Amazing!: This soundtrack is my favorite music...   \n",
       "3         1  Excellent Soundtrack: I truly like this soundt...   \n",
       "4         1  Remember, Pull Your Jaw Off The Floor After He...   \n",
       "...     ...                                                ...   \n",
       "9995      1  A revelation of life in small town America in ...   \n",
       "9996      1  Great biography of a very interesting journali...   \n",
       "9997      0  Interesting Subject; Poor Presentation: You'd ...   \n",
       "9998      0  Don't buy: The box looked used and it is obvio...   \n",
       "9999      1  Beautiful Pen and Fast Delivery.: The pen was ...   \n",
       "\n",
       "                                                 scores  compund  comp_score  \\\n",
       "0     {'neg': 0.088, 'neu': 0.669, 'pos': 0.243, 'co...   0.9454           1   \n",
       "1     {'neg': 0.018, 'neu': 0.837, 'pos': 0.145, 'co...   0.8957           1   \n",
       "2     {'neg': 0.04, 'neu': 0.692, 'pos': 0.268, 'com...   0.9858           1   \n",
       "3     {'neg': 0.09, 'neu': 0.615, 'pos': 0.295, 'com...   0.9814           1   \n",
       "4     {'neg': 0.0, 'neu': 0.746, 'pos': 0.254, 'comp...   0.9781           1   \n",
       "...                                                 ...      ...         ...   \n",
       "9995  {'neg': 0.017, 'neu': 0.846, 'pos': 0.136, 'co...   0.9610           1   \n",
       "9996  {'neg': 0.0, 'neu': 0.868, 'pos': 0.132, 'comp...   0.9544           1   \n",
       "9997  {'neg': 0.084, 'neu': 0.754, 'pos': 0.162, 'co...   0.9102           1   \n",
       "9998  {'neg': 0.091, 'neu': 0.909, 'pos': 0.0, 'comp...  -0.3595           0   \n",
       "9999  {'neg': 0.028, 'neu': 0.811, 'pos': 0.161, 'co...   0.9107           1   \n",
       "\n",
       "      score_avg  \n",
       "0        0.0546  \n",
       "1        0.1043  \n",
       "2        0.0142  \n",
       "3        0.0186  \n",
       "4        0.0219  \n",
       "...         ...  \n",
       "9995     0.0380  \n",
       "9996     0.0456  \n",
       "9997     0.0898  \n",
       "9998     1.3595  \n",
       "9999     0.0893  \n",
       "\n",
       "[10000 rows x 6 columns]"
      ]
     },
     "execution_count": 117,
     "metadata": {},
     "output_type": "execute_result"
    }
   ],
   "source": [
    "data['label'] = data['label'].apply(lambda x: 1 if x=='pos' else 0)\n",
    "data"
   ]
  },
  {
   "cell_type": "code",
   "execution_count": 118,
   "id": "c80a2654",
   "metadata": {},
   "outputs": [],
   "source": [
    "from sklearn.metrics import confusion_matrix, accuracy_score, classification_report"
   ]
  },
  {
   "cell_type": "code",
   "execution_count": 119,
   "id": "74e4f2bc",
   "metadata": {},
   "outputs": [
    {
     "data": {
      "text/plain": [
       "array([[2629, 2468],\n",
       "       [ 435, 4468]], dtype=int64)"
      ]
     },
     "execution_count": 119,
     "metadata": {},
     "output_type": "execute_result"
    }
   ],
   "source": [
    "confusion_matrix(data['label'],data['comp_score'])"
   ]
  },
  {
   "cell_type": "code",
   "execution_count": 120,
   "id": "394bcc87",
   "metadata": {},
   "outputs": [
    {
     "name": "stdout",
     "output_type": "stream",
     "text": [
      "              precision    recall  f1-score   support\n",
      "\n",
      "           0       0.86      0.52      0.64      5097\n",
      "           1       0.64      0.91      0.75      4903\n",
      "\n",
      "    accuracy                           0.71     10000\n",
      "   macro avg       0.75      0.71      0.70     10000\n",
      "weighted avg       0.75      0.71      0.70     10000\n",
      "\n"
     ]
    }
   ],
   "source": [
    "print(classification_report(data['label'],data['comp_score']))"
   ]
  },
  {
   "cell_type": "code",
   "execution_count": 121,
   "id": "1e751381",
   "metadata": {},
   "outputs": [
    {
     "data": {
      "text/plain": [
       "0.7097"
      ]
     },
     "execution_count": 121,
     "metadata": {},
     "output_type": "execute_result"
    }
   ],
   "source": [
    "accuracy_score(data.label,data.comp_score)"
   ]
  },
  {
   "cell_type": "code",
   "execution_count": 122,
   "id": "858e92a9",
   "metadata": {},
   "outputs": [],
   "source": [
    "data['score_avg'] = data['scores'].apply(lambda x: (x['neg']+x['neu']+x['pos'])-x['compound'])"
   ]
  },
  {
   "cell_type": "code",
   "execution_count": 123,
   "id": "c0eed5a7",
   "metadata": {},
   "outputs": [
    {
     "data": {
      "text/html": [
       "<div>\n",
       "<style scoped>\n",
       "    .dataframe tbody tr th:only-of-type {\n",
       "        vertical-align: middle;\n",
       "    }\n",
       "\n",
       "    .dataframe tbody tr th {\n",
       "        vertical-align: top;\n",
       "    }\n",
       "\n",
       "    .dataframe thead th {\n",
       "        text-align: right;\n",
       "    }\n",
       "</style>\n",
       "<table border=\"1\" class=\"dataframe\">\n",
       "  <thead>\n",
       "    <tr style=\"text-align: right;\">\n",
       "      <th></th>\n",
       "      <th>label</th>\n",
       "      <th>review</th>\n",
       "      <th>scores</th>\n",
       "      <th>compund</th>\n",
       "      <th>comp_score</th>\n",
       "      <th>score_avg</th>\n",
       "    </tr>\n",
       "  </thead>\n",
       "  <tbody>\n",
       "    <tr>\n",
       "      <th>0</th>\n",
       "      <td>1</td>\n",
       "      <td>Stuning even for the non-gamer: This sound tra...</td>\n",
       "      <td>{'neg': 0.088, 'neu': 0.669, 'pos': 0.243, 'co...</td>\n",
       "      <td>0.9454</td>\n",
       "      <td>1</td>\n",
       "      <td>0.0546</td>\n",
       "    </tr>\n",
       "    <tr>\n",
       "      <th>1</th>\n",
       "      <td>1</td>\n",
       "      <td>The best soundtrack ever to anything.: I'm rea...</td>\n",
       "      <td>{'neg': 0.018, 'neu': 0.837, 'pos': 0.145, 'co...</td>\n",
       "      <td>0.8957</td>\n",
       "      <td>1</td>\n",
       "      <td>0.1043</td>\n",
       "    </tr>\n",
       "    <tr>\n",
       "      <th>2</th>\n",
       "      <td>1</td>\n",
       "      <td>Amazing!: This soundtrack is my favorite music...</td>\n",
       "      <td>{'neg': 0.04, 'neu': 0.692, 'pos': 0.268, 'com...</td>\n",
       "      <td>0.9858</td>\n",
       "      <td>1</td>\n",
       "      <td>0.0142</td>\n",
       "    </tr>\n",
       "    <tr>\n",
       "      <th>3</th>\n",
       "      <td>1</td>\n",
       "      <td>Excellent Soundtrack: I truly like this soundt...</td>\n",
       "      <td>{'neg': 0.09, 'neu': 0.615, 'pos': 0.295, 'com...</td>\n",
       "      <td>0.9814</td>\n",
       "      <td>1</td>\n",
       "      <td>0.0186</td>\n",
       "    </tr>\n",
       "    <tr>\n",
       "      <th>4</th>\n",
       "      <td>1</td>\n",
       "      <td>Remember, Pull Your Jaw Off The Floor After He...</td>\n",
       "      <td>{'neg': 0.0, 'neu': 0.746, 'pos': 0.254, 'comp...</td>\n",
       "      <td>0.9781</td>\n",
       "      <td>1</td>\n",
       "      <td>0.0219</td>\n",
       "    </tr>\n",
       "    <tr>\n",
       "      <th>5</th>\n",
       "      <td>1</td>\n",
       "      <td>an absolute masterpiece: I am quite sure any o...</td>\n",
       "      <td>{'neg': 0.014, 'neu': 0.737, 'pos': 0.249, 'co...</td>\n",
       "      <td>0.9900</td>\n",
       "      <td>1</td>\n",
       "      <td>0.0100</td>\n",
       "    </tr>\n",
       "    <tr>\n",
       "      <th>6</th>\n",
       "      <td>0</td>\n",
       "      <td>Buyer beware: This is a self-published book, a...</td>\n",
       "      <td>{'neg': 0.124, 'neu': 0.806, 'pos': 0.069, 'co...</td>\n",
       "      <td>-0.8744</td>\n",
       "      <td>0</td>\n",
       "      <td>1.8734</td>\n",
       "    </tr>\n",
       "    <tr>\n",
       "      <th>7</th>\n",
       "      <td>1</td>\n",
       "      <td>Glorious story: I loved Whisper of the wicked ...</td>\n",
       "      <td>{'neg': 0.072, 'neu': 0.583, 'pos': 0.346, 'co...</td>\n",
       "      <td>0.9900</td>\n",
       "      <td>1</td>\n",
       "      <td>0.0110</td>\n",
       "    </tr>\n",
       "    <tr>\n",
       "      <th>8</th>\n",
       "      <td>1</td>\n",
       "      <td>A FIVE STAR BOOK: I just finished reading Whis...</td>\n",
       "      <td>{'neg': 0.113, 'neu': 0.712, 'pos': 0.174, 'co...</td>\n",
       "      <td>0.8353</td>\n",
       "      <td>1</td>\n",
       "      <td>0.1637</td>\n",
       "    </tr>\n",
       "    <tr>\n",
       "      <th>9</th>\n",
       "      <td>1</td>\n",
       "      <td>Whispers of the Wicked Saints: This was a easy...</td>\n",
       "      <td>{'neg': 0.033, 'neu': 0.777, 'pos': 0.19, 'com...</td>\n",
       "      <td>0.8196</td>\n",
       "      <td>1</td>\n",
       "      <td>0.1804</td>\n",
       "    </tr>\n",
       "  </tbody>\n",
       "</table>\n",
       "</div>"
      ],
      "text/plain": [
       "   label                                             review  \\\n",
       "0      1  Stuning even for the non-gamer: This sound tra...   \n",
       "1      1  The best soundtrack ever to anything.: I'm rea...   \n",
       "2      1  Amazing!: This soundtrack is my favorite music...   \n",
       "3      1  Excellent Soundtrack: I truly like this soundt...   \n",
       "4      1  Remember, Pull Your Jaw Off The Floor After He...   \n",
       "5      1  an absolute masterpiece: I am quite sure any o...   \n",
       "6      0  Buyer beware: This is a self-published book, a...   \n",
       "7      1  Glorious story: I loved Whisper of the wicked ...   \n",
       "8      1  A FIVE STAR BOOK: I just finished reading Whis...   \n",
       "9      1  Whispers of the Wicked Saints: This was a easy...   \n",
       "\n",
       "                                              scores  compund  comp_score  \\\n",
       "0  {'neg': 0.088, 'neu': 0.669, 'pos': 0.243, 'co...   0.9454           1   \n",
       "1  {'neg': 0.018, 'neu': 0.837, 'pos': 0.145, 'co...   0.8957           1   \n",
       "2  {'neg': 0.04, 'neu': 0.692, 'pos': 0.268, 'com...   0.9858           1   \n",
       "3  {'neg': 0.09, 'neu': 0.615, 'pos': 0.295, 'com...   0.9814           1   \n",
       "4  {'neg': 0.0, 'neu': 0.746, 'pos': 0.254, 'comp...   0.9781           1   \n",
       "5  {'neg': 0.014, 'neu': 0.737, 'pos': 0.249, 'co...   0.9900           1   \n",
       "6  {'neg': 0.124, 'neu': 0.806, 'pos': 0.069, 'co...  -0.8744           0   \n",
       "7  {'neg': 0.072, 'neu': 0.583, 'pos': 0.346, 'co...   0.9900           1   \n",
       "8  {'neg': 0.113, 'neu': 0.712, 'pos': 0.174, 'co...   0.8353           1   \n",
       "9  {'neg': 0.033, 'neu': 0.777, 'pos': 0.19, 'com...   0.8196           1   \n",
       "\n",
       "   score_avg  \n",
       "0     0.0546  \n",
       "1     0.1043  \n",
       "2     0.0142  \n",
       "3     0.0186  \n",
       "4     0.0219  \n",
       "5     0.0100  \n",
       "6     1.8734  \n",
       "7     0.0110  \n",
       "8     0.1637  \n",
       "9     0.1804  "
      ]
     },
     "execution_count": 123,
     "metadata": {},
     "output_type": "execute_result"
    }
   ],
   "source": [
    "data.head(10)"
   ]
  },
  {
   "cell_type": "code",
   "execution_count": 124,
   "id": "b840241e",
   "metadata": {},
   "outputs": [],
   "source": [
    "X = data[['compund','comp_score']]\n",
    "y = data['label']\n",
    "\n",
    "import sklearn\n",
    "from sklearn.model_selection import train_test_split"
   ]
  },
  {
   "cell_type": "code",
   "execution_count": 125,
   "id": "2f169816",
   "metadata": {},
   "outputs": [],
   "source": [
    "X_train, X_test, y_train, y_test = train_test_split(X, y, test_size=0.33, random_state=42)"
   ]
  },
  {
   "cell_type": "markdown",
   "id": "608af124",
   "metadata": {},
   "source": [
    "### logistic regression"
   ]
  },
  {
   "cell_type": "code",
   "execution_count": 126,
   "id": "3f685d82",
   "metadata": {},
   "outputs": [],
   "source": [
    "from sklearn.linear_model import LogisticRegression\n",
    "lgr_model = LogisticRegression()"
   ]
  },
  {
   "cell_type": "code",
   "execution_count": 127,
   "id": "452f9704",
   "metadata": {},
   "outputs": [
    {
     "data": {
      "text/plain": [
       "LogisticRegression()"
      ]
     },
     "execution_count": 127,
     "metadata": {},
     "output_type": "execute_result"
    }
   ],
   "source": [
    "lgr_model.fit(X_train,y_train)"
   ]
  },
  {
   "cell_type": "code",
   "execution_count": 128,
   "id": "d9b4c4f8",
   "metadata": {},
   "outputs": [],
   "source": [
    "predictions = lgr_model.predict(X_test)"
   ]
  },
  {
   "cell_type": "code",
   "execution_count": 129,
   "id": "4981b34a",
   "metadata": {},
   "outputs": [
    {
     "name": "stdout",
     "output_type": "stream",
     "text": [
      "[[1154  495]\n",
      " [ 283 1368]]\n",
      "              precision    recall  f1-score   support\n",
      "\n",
      "           0       0.80      0.70      0.75      1649\n",
      "           1       0.73      0.83      0.78      1651\n",
      "\n",
      "    accuracy                           0.76      3300\n",
      "   macro avg       0.77      0.76      0.76      3300\n",
      "weighted avg       0.77      0.76      0.76      3300\n",
      "\n",
      "0.7642424242424243\n"
     ]
    }
   ],
   "source": [
    "print(confusion_matrix(y_test,predictions))\n",
    "print(classification_report(y_test,predictions))\n",
    "print(accuracy_score(y_test,predictions))"
   ]
  },
  {
   "cell_type": "markdown",
   "id": "54d49985",
   "metadata": {},
   "source": [
    "### svm"
   ]
  },
  {
   "cell_type": "code",
   "execution_count": 131,
   "id": "c2391927",
   "metadata": {},
   "outputs": [
    {
     "data": {
      "text/plain": [
       "SVC()"
      ]
     },
     "execution_count": 131,
     "metadata": {},
     "output_type": "execute_result"
    }
   ],
   "source": [
    "from sklearn.svm import SVC\n",
    "svm_model = SVC()\n",
    "svm_model.fit(X_train, y_train)"
   ]
  },
  {
   "cell_type": "code",
   "execution_count": 132,
   "id": "6cea8f19",
   "metadata": {
    "scrolled": true
   },
   "outputs": [
    {
     "name": "stdout",
     "output_type": "stream",
     "text": [
      "[[1193  456]\n",
      " [ 338 1313]]\n",
      "              precision    recall  f1-score   support\n",
      "\n",
      "           0       0.78      0.72      0.75      1649\n",
      "           1       0.74      0.80      0.77      1651\n",
      "\n",
      "    accuracy                           0.76      3300\n",
      "   macro avg       0.76      0.76      0.76      3300\n",
      "weighted avg       0.76      0.76      0.76      3300\n",
      "\n",
      "0.7593939393939394\n"
     ]
    }
   ],
   "source": [
    "predictions = svm_model.predict(X_test)\n",
    "print(confusion_matrix(y_test,predictions))\n",
    "print(classification_report(y_test,predictions))\n",
    "print(accuracy_score(y_test,predictions))"
   ]
  },
  {
   "cell_type": "markdown",
   "id": "21bfc096",
   "metadata": {},
   "source": [
    "###  Naive bayes"
   ]
  },
  {
   "cell_type": "code",
   "execution_count": 136,
   "id": "fc6cd298",
   "metadata": {},
   "outputs": [
    {
     "data": {
      "text/plain": [
       "LinearSVC()"
      ]
     },
     "execution_count": 136,
     "metadata": {},
     "output_type": "execute_result"
    }
   ],
   "source": [
    "from sklearn.svm import LinearSVC\n",
    "nm_model = LinearSVC()\n",
    "nm_model.fit(X_train, y_train)"
   ]
  },
  {
   "cell_type": "code",
   "execution_count": 137,
   "id": "aeba5aa1",
   "metadata": {},
   "outputs": [
    {
     "name": "stdout",
     "output_type": "stream",
     "text": [
      "[[1193  456]\n",
      " [ 338 1313]]\n",
      "              precision    recall  f1-score   support\n",
      "\n",
      "           0       0.78      0.72      0.75      1649\n",
      "           1       0.74      0.80      0.77      1651\n",
      "\n",
      "    accuracy                           0.76      3300\n",
      "   macro avg       0.76      0.76      0.76      3300\n",
      "weighted avg       0.76      0.76      0.76      3300\n",
      "\n",
      "0.7593939393939394\n"
     ]
    }
   ],
   "source": [
    "predictions = svm_model.predict(X_test)\n",
    "print(confusion_matrix(y_test,predictions))\n",
    "print(classification_report(y_test,predictions))\n",
    "print(accuracy_score(y_test,predictions))"
   ]
  },
  {
   "cell_type": "code",
   "execution_count": null,
   "id": "9eaf9b51",
   "metadata": {},
   "outputs": [],
   "source": []
  }
 ],
 "metadata": {
  "kernelspec": {
   "display_name": "Python 3",
   "language": "python",
   "name": "python3"
  },
  "language_info": {
   "codemirror_mode": {
    "name": "ipython",
    "version": 3
   },
   "file_extension": ".py",
   "mimetype": "text/x-python",
   "name": "python",
   "nbconvert_exporter": "python",
   "pygments_lexer": "ipython3",
   "version": "3.8.8"
  }
 },
 "nbformat": 4,
 "nbformat_minor": 5
}
